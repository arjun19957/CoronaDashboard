{
 "cells": [
  {
   "cell_type": "code",
   "execution_count": 2,
   "metadata": {},
   "outputs": [],
   "source": [
    "import pandas as pd\n",
    "import matplotlib.pyplot as plt\n",
    "import urllib.request\n",
    "from sklearn.cluster import KMeans\n",
    "import seaborn as sns\n"
   ]
  },
  {
   "cell_type": "markdown",
   "metadata": {},
   "source": [
    "Collecting the data and parsing it to a pandas dataframe"
   ]
  },
  {
   "cell_type": "code",
   "execution_count": 3,
   "metadata": {},
   "outputs": [
    {
     "data": {
      "text/plain": [
       "('cdata.xlsx', <http.client.HTTPMessage at 0x1badc6ec308>)"
      ]
     },
     "execution_count": 3,
     "metadata": {},
     "output_type": "execute_result"
    }
   ],
   "source": [
    "url = 'https://www.ecdc.europa.eu/sites/default/files/documents/COVID-19-geographic-disbtribution-worldwide.xlsx'\n",
    "urllib.request.urlretrieve(url, 'cdata.xlsx')"
   ]
  },
  {
   "cell_type": "code",
   "execution_count": null,
   "metadata": {},
   "outputs": [],
   "source": []
  },
  {
   "cell_type": "code",
   "execution_count": 4,
   "metadata": {},
   "outputs": [],
   "source": [
    "world=pd.read_excel('cdata.xlsx')"
   ]
  },
  {
   "cell_type": "markdown",
   "metadata": {},
   "source": [
    "Cleaning the data\n"
   ]
  },
  {
   "cell_type": "code",
   "execution_count": 5,
   "metadata": {},
   "outputs": [],
   "source": [
    "world.iloc[:,1:5]=world.iloc[:,1:5].astype(int)\n",
    "world.iloc[:,9]=world.iloc[:,9].replace('',0)\n",
    "world.continentExp=world.continentExp.astype(str)\n",
    "world.dateRep=pd.to_datetime(world.dateRep,format='%d/%m/%Y')\n",
    "world.set_index('dateRep',inplace=True)\n",
    "world.deaths=world.deaths.astype(int)\n",
    "world=world[world.countriesAndTerritories!='Cases_on_an_international_conveyance_Japan']\n"
   ]
  },
  {
   "cell_type": "markdown",
   "metadata": {},
   "source": [
    "Listing the available continents\n",
    "\n",
    "\n"
   ]
  },
  {
   "cell_type": "code",
   "execution_count": 6,
   "metadata": {},
   "outputs": [
    {
     "data": {
      "text/plain": [
       "array(['Asia', 'Europe', 'Africa', 'America', 'Oceania'], dtype=object)"
      ]
     },
     "execution_count": 6,
     "metadata": {},
     "output_type": "execute_result"
    }
   ],
   "source": [
    "\n",
    "world['continentExp'].unique()\n"
   ]
  },
  {
   "cell_type": "markdown",
   "metadata": {},
   "source": [
    "So we have Asia, Europe, Africa, America, and Oceania (mostly relates to Australia and neighbouring islands) and others."
   ]
  },
  {
   "cell_type": "code",
   "execution_count": 7,
   "metadata": {},
   "outputs": [
    {
     "data": {
      "text/html": [
       "<div>\n",
       "<style scoped>\n",
       "    .dataframe tbody tr th:only-of-type {\n",
       "        vertical-align: middle;\n",
       "    }\n",
       "\n",
       "    .dataframe tbody tr th {\n",
       "        vertical-align: top;\n",
       "    }\n",
       "\n",
       "    .dataframe thead th {\n",
       "        text-align: right;\n",
       "    }\n",
       "</style>\n",
       "<table border=\"1\" class=\"dataframe\">\n",
       "  <thead>\n",
       "    <tr style=\"text-align: right;\">\n",
       "      <th></th>\n",
       "      <th>day</th>\n",
       "      <th>month</th>\n",
       "      <th>year</th>\n",
       "      <th>cases</th>\n",
       "      <th>deaths</th>\n",
       "      <th>countriesAndTerritories</th>\n",
       "      <th>geoId</th>\n",
       "      <th>countryterritoryCode</th>\n",
       "      <th>popData2019</th>\n",
       "      <th>continentExp</th>\n",
       "    </tr>\n",
       "    <tr>\n",
       "      <th>dateRep</th>\n",
       "      <th></th>\n",
       "      <th></th>\n",
       "      <th></th>\n",
       "      <th></th>\n",
       "      <th></th>\n",
       "      <th></th>\n",
       "      <th></th>\n",
       "      <th></th>\n",
       "      <th></th>\n",
       "      <th></th>\n",
       "    </tr>\n",
       "  </thead>\n",
       "  <tbody>\n",
       "    <tr>\n",
       "      <th>2020-06-22</th>\n",
       "      <td>22</td>\n",
       "      <td>6</td>\n",
       "      <td>2020</td>\n",
       "      <td>0</td>\n",
       "      <td>0</td>\n",
       "      <td>Anguilla</td>\n",
       "      <td>AI</td>\n",
       "      <td>AIA</td>\n",
       "      <td>14872.0</td>\n",
       "      <td>America</td>\n",
       "    </tr>\n",
       "    <tr>\n",
       "      <th>2020-06-21</th>\n",
       "      <td>21</td>\n",
       "      <td>6</td>\n",
       "      <td>2020</td>\n",
       "      <td>0</td>\n",
       "      <td>0</td>\n",
       "      <td>Anguilla</td>\n",
       "      <td>AI</td>\n",
       "      <td>AIA</td>\n",
       "      <td>14872.0</td>\n",
       "      <td>America</td>\n",
       "    </tr>\n",
       "    <tr>\n",
       "      <th>2020-06-20</th>\n",
       "      <td>20</td>\n",
       "      <td>6</td>\n",
       "      <td>2020</td>\n",
       "      <td>0</td>\n",
       "      <td>0</td>\n",
       "      <td>Anguilla</td>\n",
       "      <td>AI</td>\n",
       "      <td>AIA</td>\n",
       "      <td>14872.0</td>\n",
       "      <td>America</td>\n",
       "    </tr>\n",
       "    <tr>\n",
       "      <th>2020-06-19</th>\n",
       "      <td>19</td>\n",
       "      <td>6</td>\n",
       "      <td>2020</td>\n",
       "      <td>0</td>\n",
       "      <td>0</td>\n",
       "      <td>Anguilla</td>\n",
       "      <td>AI</td>\n",
       "      <td>AIA</td>\n",
       "      <td>14872.0</td>\n",
       "      <td>America</td>\n",
       "    </tr>\n",
       "    <tr>\n",
       "      <th>2020-06-18</th>\n",
       "      <td>18</td>\n",
       "      <td>6</td>\n",
       "      <td>2020</td>\n",
       "      <td>0</td>\n",
       "      <td>0</td>\n",
       "      <td>Anguilla</td>\n",
       "      <td>AI</td>\n",
       "      <td>AIA</td>\n",
       "      <td>14872.0</td>\n",
       "      <td>America</td>\n",
       "    </tr>\n",
       "    <tr>\n",
       "      <th>...</th>\n",
       "      <td>...</td>\n",
       "      <td>...</td>\n",
       "      <td>...</td>\n",
       "      <td>...</td>\n",
       "      <td>...</td>\n",
       "      <td>...</td>\n",
       "      <td>...</td>\n",
       "      <td>...</td>\n",
       "      <td>...</td>\n",
       "      <td>...</td>\n",
       "    </tr>\n",
       "    <tr>\n",
       "      <th>2020-03-19</th>\n",
       "      <td>19</td>\n",
       "      <td>3</td>\n",
       "      <td>2020</td>\n",
       "      <td>0</td>\n",
       "      <td>0</td>\n",
       "      <td>Venezuela</td>\n",
       "      <td>VE</td>\n",
       "      <td>VEN</td>\n",
       "      <td>28515829.0</td>\n",
       "      <td>America</td>\n",
       "    </tr>\n",
       "    <tr>\n",
       "      <th>2020-03-18</th>\n",
       "      <td>18</td>\n",
       "      <td>3</td>\n",
       "      <td>2020</td>\n",
       "      <td>0</td>\n",
       "      <td>0</td>\n",
       "      <td>Venezuela</td>\n",
       "      <td>VE</td>\n",
       "      <td>VEN</td>\n",
       "      <td>28515829.0</td>\n",
       "      <td>America</td>\n",
       "    </tr>\n",
       "    <tr>\n",
       "      <th>2020-03-17</th>\n",
       "      <td>17</td>\n",
       "      <td>3</td>\n",
       "      <td>2020</td>\n",
       "      <td>18</td>\n",
       "      <td>0</td>\n",
       "      <td>Venezuela</td>\n",
       "      <td>VE</td>\n",
       "      <td>VEN</td>\n",
       "      <td>28515829.0</td>\n",
       "      <td>America</td>\n",
       "    </tr>\n",
       "    <tr>\n",
       "      <th>2020-03-16</th>\n",
       "      <td>16</td>\n",
       "      <td>3</td>\n",
       "      <td>2020</td>\n",
       "      <td>5</td>\n",
       "      <td>0</td>\n",
       "      <td>Venezuela</td>\n",
       "      <td>VE</td>\n",
       "      <td>VEN</td>\n",
       "      <td>28515829.0</td>\n",
       "      <td>America</td>\n",
       "    </tr>\n",
       "    <tr>\n",
       "      <th>2020-03-15</th>\n",
       "      <td>15</td>\n",
       "      <td>3</td>\n",
       "      <td>2020</td>\n",
       "      <td>10</td>\n",
       "      <td>0</td>\n",
       "      <td>Venezuela</td>\n",
       "      <td>VE</td>\n",
       "      <td>VEN</td>\n",
       "      <td>28515829.0</td>\n",
       "      <td>America</td>\n",
       "    </tr>\n",
       "  </tbody>\n",
       "</table>\n",
       "<p>5159 rows × 10 columns</p>\n",
       "</div>"
      ],
      "text/plain": [
       "            day  month  year  cases  deaths countriesAndTerritories geoId  \\\n",
       "dateRep                                                                     \n",
       "2020-06-22   22      6  2020      0       0                Anguilla    AI   \n",
       "2020-06-21   21      6  2020      0       0                Anguilla    AI   \n",
       "2020-06-20   20      6  2020      0       0                Anguilla    AI   \n",
       "2020-06-19   19      6  2020      0       0                Anguilla    AI   \n",
       "2020-06-18   18      6  2020      0       0                Anguilla    AI   \n",
       "...         ...    ...   ...    ...     ...                     ...   ...   \n",
       "2020-03-19   19      3  2020      0       0               Venezuela    VE   \n",
       "2020-03-18   18      3  2020      0       0               Venezuela    VE   \n",
       "2020-03-17   17      3  2020     18       0               Venezuela    VE   \n",
       "2020-03-16   16      3  2020      5       0               Venezuela    VE   \n",
       "2020-03-15   15      3  2020     10       0               Venezuela    VE   \n",
       "\n",
       "           countryterritoryCode  popData2019 continentExp  \n",
       "dateRep                                                    \n",
       "2020-06-22                  AIA      14872.0      America  \n",
       "2020-06-21                  AIA      14872.0      America  \n",
       "2020-06-20                  AIA      14872.0      America  \n",
       "2020-06-19                  AIA      14872.0      America  \n",
       "2020-06-18                  AIA      14872.0      America  \n",
       "...                         ...          ...          ...  \n",
       "2020-03-19                  VEN   28515829.0      America  \n",
       "2020-03-18                  VEN   28515829.0      America  \n",
       "2020-03-17                  VEN   28515829.0      America  \n",
       "2020-03-16                  VEN   28515829.0      America  \n",
       "2020-03-15                  VEN   28515829.0      America  \n",
       "\n",
       "[5159 rows x 10 columns]"
      ]
     },
     "execution_count": 7,
     "metadata": {},
     "output_type": "execute_result"
    }
   ],
   "source": [
    "america=world[world['continentExp']=='America']\n",
    "america"
   ]
  },
  {
   "cell_type": "markdown",
   "metadata": {},
   "source": [
    "A quick look at the america dataset reveals that its got the South American countries in it as well."
   ]
  },
  {
   "cell_type": "code",
   "execution_count": 8,
   "metadata": {},
   "outputs": [
    {
     "data": {
      "text/plain": [
       "array(['Anguilla', 'Antigua_and_Barbuda', 'Argentina', 'Aruba', 'Bahamas',\n",
       "       'Barbados', 'Belize', 'Bermuda', 'Bolivia',\n",
       "       'Bonaire, Saint Eustatius and Saba', 'Brazil',\n",
       "       'British_Virgin_Islands', 'Canada', 'Cayman_Islands', 'Chile',\n",
       "       'Colombia', 'Costa_Rica', 'Cuba', 'Curaçao', 'Dominica',\n",
       "       'Dominican_Republic', 'Ecuador', 'El_Salvador',\n",
       "       'Falkland_Islands_(Malvinas)', 'Greenland', 'Grenada', 'Guatemala',\n",
       "       'Guyana', 'Haiti', 'Honduras', 'Jamaica', 'Mexico', 'Montserrat',\n",
       "       'Nicaragua', 'Panama', 'Paraguay', 'Peru', 'Puerto_Rico',\n",
       "       'Saint_Kitts_and_Nevis', 'Saint_Lucia',\n",
       "       'Saint_Vincent_and_the_Grenadines', 'Sint_Maarten', 'Suriname',\n",
       "       'Trinidad_and_Tobago', 'Turks_and_Caicos_islands',\n",
       "       'United_States_of_America', 'United_States_Virgin_Islands',\n",
       "       'Uruguay', 'Venezuela'], dtype=object)"
      ]
     },
     "execution_count": 8,
     "metadata": {},
     "output_type": "execute_result"
    }
   ],
   "source": [
    "america['countriesAndTerritories'].unique()"
   ]
  },
  {
   "cell_type": "markdown",
   "metadata": {},
   "source": [
    "We are going to seperate USA and Canada from this list and assign their continent label with north_america\n",
    "\n"
   ]
  },
  {
   "cell_type": "code",
   "execution_count": 9,
   "metadata": {},
   "outputs": [],
   "source": [
    "world.continentExp[(world.countriesAndTerritories=='United_States_of_America')| (world.countriesAndTerritories=='Canada') ]= 'north_america'\n"
   ]
  },
  {
   "cell_type": "markdown",
   "metadata": {},
   "source": [
    "We sepereate each continent and assign them to a different dataset so that it becomes easier to do continent wise analysis "
   ]
  },
  {
   "cell_type": "code",
   "execution_count": 10,
   "metadata": {},
   "outputs": [],
   "source": [
    "asia=world[world.continentExp=='Asia']\n",
    "europe=world[world.continentExp=='Europe']\n",
    "oceania=world[world.continentExp=='Oceania']\n",
    "others=world[world.continentExp=='Other']\n",
    "north_america=world[world.continentExp=='north_america']\n",
    "america=world[world.continentExp=='America']\n"
   ]
  },
  {
   "cell_type": "markdown",
   "metadata": {},
   "source": [
    "So now that we have well seperated data, lets look at how badly each continent has been affected by the pandemic\n"
   ]
  },
  {
   "cell_type": "code",
   "execution_count": 11,
   "metadata": {},
   "outputs": [
    {
     "data": {
      "image/png": "[encoded data removed]",
      "text/plain": [
       "<Figure size 576x576 with 1 Axes>"
      ]
     },
     "metadata": {
      "needs_background": "light"
     },
     "output_type": "display_data"
    }
   ],
   "source": [
    "continents=[\"Europe\",\"Asia\",\"North America\",\"America\",\"Oceania\",\"Others\"]\n",
    "cases=[asia.cases.sum(),europe.cases.sum(),north_america.cases.sum(),america.cases.sum(),oceania.cases.sum(),others.cases.sum()]\n",
    "plt.figure(figsize=(8,8))\n",
    "\n",
    "plt.bar(continents,cases)\n",
    "plt.ylabel(\"Number of cases\")\n",
    "plt.xlabel('Continent')\n",
    "for i, j in enumerate(cases):\n",
    "        plt.text(i-0.29,j+25000,str(j))"
   ]
  },
  {
   "cell_type": "markdown",
   "metadata": {},
   "source": [
    "Its important to note that China stopped reporting there numbers"
   ]
  },
  {
   "cell_type": "markdown",
   "metadata": {},
   "source": [
    "Total number of people who were infected by the virus globally"
   ]
  },
  {
   "cell_type": "code",
   "execution_count": 12,
   "metadata": {},
   "outputs": [
    {
     "data": {
      "text/plain": [
       "8619636"
      ]
     },
     "execution_count": 12,
     "metadata": {},
     "output_type": "execute_result"
    }
   ],
   "source": [
    "totalcases=asia.cases.sum()+europe.cases.sum()+north_america.cases.sum()+america.cases.sum()+oceania.cases.sum()+others.cases.sum()\n",
    "totalcases"
   ]
  },
  {
   "cell_type": "markdown",
   "metadata": {},
   "source": [
    "Total number of deaths globally"
   ]
  },
  {
   "cell_type": "code",
   "execution_count": 13,
   "metadata": {},
   "outputs": [
    {
     "data": {
      "text/plain": [
       "460139"
      ]
     },
     "execution_count": 13,
     "metadata": {},
     "output_type": "execute_result"
    }
   ],
   "source": [
    "totaldeaths=asia.deaths.sum()+america.deaths.sum()+oceania.deaths.sum()+others.deaths.sum()+europe.deaths.sum()+north_america.deaths.sum()\n",
    "totaldeaths"
   ]
  },
  {
   "cell_type": "markdown",
   "metadata": {},
   "source": [
    "Global fatality rate"
   ]
  },
  {
   "cell_type": "code",
   "execution_count": 14,
   "metadata": {},
   "outputs": [
    {
     "data": {
      "text/plain": [
       "0.05338264864084748"
      ]
     },
     "execution_count": 14,
     "metadata": {},
     "output_type": "execute_result"
    }
   ],
   "source": [
    "global_fatality_rate=totaldeaths/totalcases\n",
    "global_fatality_rate"
   ]
  },
  {
   "cell_type": "markdown",
   "metadata": {},
   "source": [
    "Time series analysis of the spread of the pandemic"
   ]
  },
  {
   "cell_type": "code",
   "execution_count": 15,
   "metadata": {},
   "outputs": [
    {
     "data": {
      "text/plain": [
       "<matplotlib.axes._subplots.AxesSubplot at 0x1badd5aa348>"
      ]
     },
     "execution_count": 15,
     "metadata": {},
     "output_type": "execute_result"
    },
    {
     "data": {
      "image/png": "[encoded data removed]",
      "text/plain": [
       "<Figure size 432x288 with 1 Axes>"
      ]
     },
     "metadata": {
      "needs_background": "light"
     },
     "output_type": "display_data"
    }
   ],
   "source": [
    "world.cases.resample('D').sum().plot()"
   ]
  },
  {
   "cell_type": "markdown",
   "metadata": {},
   "source": [
    "\n"
   ]
  },
  {
   "cell_type": "markdown",
   "metadata": {},
   "source": [
    "Enter your country of choice to get all related stats"
   ]
  },
  {
   "cell_type": "code",
   "execution_count": 50,
   "metadata": {},
   "outputs": [],
   "source": [
    "choice=\"India\"\n"
   ]
  },
  {
   "cell_type": "code",
   "execution_count": 51,
   "metadata": {},
   "outputs": [
    {
     "name": "stderr",
     "output_type": "stream",
     "text": [
      "D:\\Users\\arjun\\anaconda3\\lib\\site-packages\\pandas\\core\\frame.py:4133: SettingWithCopyWarning: \n",
      "A value is trying to be set on a copy of a slice from a DataFrame\n",
      "\n",
      "See the caveats in the documentation: https://pandas.pydata.org/pandas-docs/stable/user_guide/indexing.html#returning-a-view-versus-a-copy\n",
      "  errors=errors,\n"
     ]
    },
    {
     "data": {
      "text/html": [
       "<div>\n",
       "<style scoped>\n",
       "    .dataframe tbody tr th:only-of-type {\n",
       "        vertical-align: middle;\n",
       "    }\n",
       "\n",
       "    .dataframe tbody tr th {\n",
       "        vertical-align: top;\n",
       "    }\n",
       "\n",
       "    .dataframe thead th {\n",
       "        text-align: right;\n",
       "    }\n",
       "</style>\n",
       "<table border=\"1\" class=\"dataframe\">\n",
       "  <thead>\n",
       "    <tr style=\"text-align: right;\">\n",
       "      <th></th>\n",
       "      <th>day</th>\n",
       "      <th>month</th>\n",
       "      <th>year</th>\n",
       "      <th>cases</th>\n",
       "      <th>deaths</th>\n",
       "      <th>Country Name</th>\n",
       "      <th>geoId</th>\n",
       "      <th>countryterritoryCode</th>\n",
       "      <th>popData2019</th>\n",
       "      <th>continentExp</th>\n",
       "    </tr>\n",
       "    <tr>\n",
       "      <th>dateRep</th>\n",
       "      <th></th>\n",
       "      <th></th>\n",
       "      <th></th>\n",
       "      <th></th>\n",
       "      <th></th>\n",
       "      <th></th>\n",
       "      <th></th>\n",
       "      <th></th>\n",
       "      <th></th>\n",
       "      <th></th>\n",
       "    </tr>\n",
       "  </thead>\n",
       "  <tbody>\n",
       "    <tr>\n",
       "      <th>2020-06-22</th>\n",
       "      <td>22</td>\n",
       "      <td>6</td>\n",
       "      <td>2020</td>\n",
       "      <td>14821</td>\n",
       "      <td>445</td>\n",
       "      <td>India</td>\n",
       "      <td>IN</td>\n",
       "      <td>IND</td>\n",
       "      <td>1.366418e+09</td>\n",
       "      <td>Asia</td>\n",
       "    </tr>\n",
       "    <tr>\n",
       "      <th>2020-06-21</th>\n",
       "      <td>21</td>\n",
       "      <td>6</td>\n",
       "      <td>2020</td>\n",
       "      <td>15413</td>\n",
       "      <td>306</td>\n",
       "      <td>India</td>\n",
       "      <td>IN</td>\n",
       "      <td>IND</td>\n",
       "      <td>1.366418e+09</td>\n",
       "      <td>Asia</td>\n",
       "    </tr>\n",
       "    <tr>\n",
       "      <th>2020-06-20</th>\n",
       "      <td>20</td>\n",
       "      <td>6</td>\n",
       "      <td>2020</td>\n",
       "      <td>14516</td>\n",
       "      <td>375</td>\n",
       "      <td>India</td>\n",
       "      <td>IN</td>\n",
       "      <td>IND</td>\n",
       "      <td>1.366418e+09</td>\n",
       "      <td>Asia</td>\n",
       "    </tr>\n",
       "    <tr>\n",
       "      <th>2020-06-19</th>\n",
       "      <td>19</td>\n",
       "      <td>6</td>\n",
       "      <td>2020</td>\n",
       "      <td>13586</td>\n",
       "      <td>336</td>\n",
       "      <td>India</td>\n",
       "      <td>IN</td>\n",
       "      <td>IND</td>\n",
       "      <td>1.366418e+09</td>\n",
       "      <td>Asia</td>\n",
       "    </tr>\n",
       "    <tr>\n",
       "      <th>2020-06-18</th>\n",
       "      <td>18</td>\n",
       "      <td>6</td>\n",
       "      <td>2020</td>\n",
       "      <td>12881</td>\n",
       "      <td>334</td>\n",
       "      <td>India</td>\n",
       "      <td>IN</td>\n",
       "      <td>IND</td>\n",
       "      <td>1.366418e+09</td>\n",
       "      <td>Asia</td>\n",
       "    </tr>\n",
       "  </tbody>\n",
       "</table>\n",
       "</div>"
      ],
      "text/plain": [
       "            day  month  year  cases  deaths Country Name geoId  \\\n",
       "dateRep                                                          \n",
       "2020-06-22   22      6  2020  14821     445        India    IN   \n",
       "2020-06-21   21      6  2020  15413     306        India    IN   \n",
       "2020-06-20   20      6  2020  14516     375        India    IN   \n",
       "2020-06-19   19      6  2020  13586     336        India    IN   \n",
       "2020-06-18   18      6  2020  12881     334        India    IN   \n",
       "\n",
       "           countryterritoryCode   popData2019 continentExp  \n",
       "dateRep                                                     \n",
       "2020-06-22                  IND  1.366418e+09         Asia  \n",
       "2020-06-21                  IND  1.366418e+09         Asia  \n",
       "2020-06-20                  IND  1.366418e+09         Asia  \n",
       "2020-06-19                  IND  1.366418e+09         Asia  \n",
       "2020-06-18                  IND  1.366418e+09         Asia  "
      ]
     },
     "execution_count": 51,
     "metadata": {},
     "output_type": "execute_result"
    }
   ],
   "source": [
    "country=world[world.countriesAndTerritories==choice]\n",
    "country.rename(columns={'countriesAndTerritories':'Country Name'},inplace=True)\n",
    "country.head()"
   ]
  },
  {
   "cell_type": "code",
   "execution_count": 52,
   "metadata": {},
   "outputs": [
    {
     "data": {
      "text/plain": [
       "Text(0, 0.5, 'cases')"
      ]
     },
     "execution_count": 52,
     "metadata": {},
     "output_type": "execute_result"
    },
    {
     "data": {
      "image/png": "[encoded data removed]",
      "text/plain": [
       "<Figure size 432x288 with 1 Axes>"
      ]
     },
     "metadata": {
      "needs_background": "light"
     },
     "output_type": "display_data"
    }
   ],
   "source": [
    "country.cases.plot()\n",
    "plt.ylabel('cases')"
   ]
  },
  {
   "cell_type": "code",
   "execution_count": 53,
   "metadata": {},
   "outputs": [
    {
     "data": {
      "text/plain": [
       "Text(0, 0.5, 'Deaths')"
      ]
     },
     "execution_count": 53,
     "metadata": {},
     "output_type": "execute_result"
    },
    {
     "data": {
      "image/png": "[encoded data removed]",
      "text/plain": [
       "<Figure size 432x288 with 1 Axes>"
      ]
     },
     "metadata": {
      "needs_background": "light"
     },
     "output_type": "display_data"
    }
   ],
   "source": [
    "country.deaths.plot()\n",
    "plt.ylabel('Deaths')"
   ]
  },
  {
   "cell_type": "markdown",
   "metadata": {},
   "source": [
    "An interesting parameter to check would be to see if there is a relation between the wealth of a country and the sevirity of the pandemic in the nation "
   ]
  },
  {
   "cell_type": "code",
   "execution_count": 54,
   "metadata": {},
   "outputs": [
    {
     "data": {
      "text/html": [
       "<div>\n",
       "<style scoped>\n",
       "    .dataframe tbody tr th:only-of-type {\n",
       "        vertical-align: middle;\n",
       "    }\n",
       "\n",
       "    .dataframe tbody tr th {\n",
       "        vertical-align: top;\n",
       "    }\n",
       "\n",
       "    .dataframe thead th {\n",
       "        text-align: right;\n",
       "    }\n",
       "</style>\n",
       "<table border=\"1\" class=\"dataframe\">\n",
       "  <thead>\n",
       "    <tr style=\"text-align: right;\">\n",
       "      <th></th>\n",
       "      <th>cases</th>\n",
       "    </tr>\n",
       "    <tr>\n",
       "      <th>countriesAndTerritories</th>\n",
       "      <th></th>\n",
       "    </tr>\n",
       "  </thead>\n",
       "  <tbody>\n",
       "    <tr>\n",
       "      <th>Afghanistan</th>\n",
       "      <td>28833</td>\n",
       "    </tr>\n",
       "    <tr>\n",
       "      <th>Albania</th>\n",
       "      <td>1927</td>\n",
       "    </tr>\n",
       "    <tr>\n",
       "      <th>Algeria</th>\n",
       "      <td>11771</td>\n",
       "    </tr>\n",
       "    <tr>\n",
       "      <th>Andorra</th>\n",
       "      <td>855</td>\n",
       "    </tr>\n",
       "    <tr>\n",
       "      <th>Angola</th>\n",
       "      <td>176</td>\n",
       "    </tr>\n",
       "  </tbody>\n",
       "</table>\n",
       "</div>"
      ],
      "text/plain": [
       "                         cases\n",
       "countriesAndTerritories       \n",
       "Afghanistan              28833\n",
       "Albania                   1927\n",
       "Algeria                  11771\n",
       "Andorra                    855\n",
       "Angola                     176"
      ]
     },
     "execution_count": 54,
     "metadata": {},
     "output_type": "execute_result"
    }
   ],
   "source": [
    "country_total=world.groupby(['countriesAndTerritories']).cases.sum()\n",
    "test=pd.DataFrame(country_total)\n",
    "test.head()"
   ]
  },
  {
   "cell_type": "code",
   "execution_count": 55,
   "metadata": {},
   "outputs": [
    {
     "data": {
      "text/html": [
       "<div>\n",
       "<style scoped>\n",
       "    .dataframe tbody tr th:only-of-type {\n",
       "        vertical-align: middle;\n",
       "    }\n",
       "\n",
       "    .dataframe tbody tr th {\n",
       "        vertical-align: top;\n",
       "    }\n",
       "\n",
       "    .dataframe thead th {\n",
       "        text-align: right;\n",
       "    }\n",
       "</style>\n",
       "<table border=\"1\" class=\"dataframe\">\n",
       "  <thead>\n",
       "    <tr style=\"text-align: right;\">\n",
       "      <th></th>\n",
       "      <th>CountryName</th>\n",
       "      <th>cases</th>\n",
       "      <th>GDPpercapita</th>\n",
       "    </tr>\n",
       "  </thead>\n",
       "  <tbody>\n",
       "    <tr>\n",
       "      <th>0</th>\n",
       "      <td>Afghanistan</td>\n",
       "      <td>28833</td>\n",
       "      <td>2225.761336</td>\n",
       "    </tr>\n",
       "    <tr>\n",
       "      <th>1</th>\n",
       "      <td>Albania</td>\n",
       "      <td>1927</td>\n",
       "      <td>13835.548306</td>\n",
       "    </tr>\n",
       "    <tr>\n",
       "      <th>2</th>\n",
       "      <td>Algeria</td>\n",
       "      <td>11771</td>\n",
       "      <td>11759.196587</td>\n",
       "    </tr>\n",
       "    <tr>\n",
       "      <th>4</th>\n",
       "      <td>Angola</td>\n",
       "      <td>176</td>\n",
       "      <td>7092.990319</td>\n",
       "    </tr>\n",
       "    <tr>\n",
       "      <th>7</th>\n",
       "      <td>Argentina</td>\n",
       "      <td>42772</td>\n",
       "      <td>23299.982766</td>\n",
       "    </tr>\n",
       "  </tbody>\n",
       "</table>\n",
       "</div>"
      ],
      "text/plain": [
       "   CountryName  cases  GDPpercapita\n",
       "0  Afghanistan  28833   2225.761336\n",
       "1      Albania   1927  13835.548306\n",
       "2      Algeria  11771  11759.196587\n",
       "4       Angola    176   7092.990319\n",
       "7    Argentina  42772  23299.982766"
      ]
     },
     "execution_count": 55,
     "metadata": {},
     "output_type": "execute_result"
    }
   ],
   "source": [
    "test.reset_index(drop=True,inplace=True)   #reset the index on test\n",
    "country_total=pd.concat((pd.Series(country_total.index),test),axis=1)  \n",
    "country_total.rename(columns={'countriesAndTerritories':'CountryName'},inplace=True)\n",
    "gdp=pd.read_excel(\"GDP.xls\")\n",
    "gdp2018=pd.Series(gdp.iloc[:,-2])\n",
    "countriesAndTerritories=pd.Series(gdp.iloc[:,0])\n",
    "gdp=pd.concat((countriesAndTerritories,gdp2018),axis=1)\n",
    "gdp.rename(columns={'Country Name':'CountryName'},inplace=True)\n",
    "gdp=gdp.dropna()\n",
    "newdata=pd.merge(country_total,gdp,on='CountryName',how='left')\n",
    "newdata.rename(columns={'2018':'GDPpercapita'},inplace=True)\n",
    "newdata=newdata.dropna()\n",
    "newdata.head()"
   ]
  },
  {
   "cell_type": "code",
   "execution_count": 56,
   "metadata": {},
   "outputs": [
    {
     "data": {
      "text/plain": [
       "Text(0.5, 1.0, 'Plot of GDP per capita VS Total coronavirus cases')"
      ]
     },
     "execution_count": 56,
     "metadata": {},
     "output_type": "execute_result"
    },
    {
     "data": {
      "image/png": "[encoded data removed]",
      "text/plain": [
       "<Figure size 720x720 with 1 Axes>"
      ]
     },
     "metadata": {
      "needs_background": "light"
     },
     "output_type": "display_data"
    }
   ],
   "source": [
    "plt.figure(figsize=(10,10))\n",
    "plt.scatter(newdata.cases,newdata.GDPpercapita)\n",
    "plt.xlabel('Total coronavirus cases')\n",
    "plt.ylabel('GDPpercapita')\n",
    "plt.title('Plot of GDP per capita VS Total coronavirus cases')\n"
   ]
  },
  {
   "cell_type": "markdown",
   "metadata": {},
   "source": [
    "Brazil and India (point beyond 1000000 and 400000 on the x axis respectively) are more sevely affected than others. Low GDP per capita of these countries is also not good as Brazil and India will have to battle the virus with limited resources. \n",
    "\n",
    "To proceed with our analysis and to get a better picture of the distribution globally, we get rid of the outliers(India and Brazil)."
   ]
  },
  {
   "cell_type": "code",
   "execution_count": 77,
   "metadata": {},
   "outputs": [
    {
     "data": {
      "text/plain": [
       "Text(0.5, 1.0, 'Plot of Total coronavirus cases vs GDP per capita ;excluding outliers')"
      ]
     },
     "execution_count": 77,
     "metadata": {},
     "output_type": "execute_result"
    },
    {
     "data": {
      "image/png": "[encoded data removed]",
      "text/plain": [
       "<Figure size 720x720 with 1 Axes>"
      ]
     },
     "metadata": {
      "needs_background": "light"
     },
     "output_type": "display_data"
    }
   ],
   "source": [
    "plt.figure(figsize=(10,10))\n",
    "plt.scatter(newdata.cases,newdata.GDPpercapita)\n",
    "plt.xlabel('Total coronavirus cases')\n",
    "plt.ylabel('GDPpercapita')\n",
    "plt.xlim(0,80000)\n",
    "\n",
    "plt.title('Plot of Total coronavirus cases vs GDP per capita ;excluding outliers')"
   ]
  },
  {
   "cell_type": "markdown",
   "metadata": {},
   "source": [
    "On first look, there is no evident relation between the total number of coronavirus cases and the GDP per capita of a country. But to get a better understanding of any possible relation, we will run a KMeans algorithm and look for possible non-obvious clusters\n",
    "\n",
    "Conclusion that can be drawn from observing the above plot are as follows:\n",
    "\n",
    "1. The cluster towards the origin and high number of points with low x-values suggest that many countries have managed to limit the spread of the virus and they include both poor and rich countries. The spread of dispersed plots suggest that contrary for some others.\n",
    "\n",
    "\n",
    "\n",
    "These conclusions have been drawn based on data available as on 23/06/2020 and may become invalid as the situation matures."
   ]
  },
  {
   "cell_type": "code",
   "execution_count": 80,
   "metadata": {},
   "outputs": [
    {
     "data": {
      "text/html": [
       "<div>\n",
       "<style scoped>\n",
       "    .dataframe tbody tr th:only-of-type {\n",
       "        vertical-align: middle;\n",
       "    }\n",
       "\n",
       "    .dataframe tbody tr th {\n",
       "        vertical-align: top;\n",
       "    }\n",
       "\n",
       "    .dataframe thead th {\n",
       "        text-align: right;\n",
       "    }\n",
       "</style>\n",
       "<table border=\"1\" class=\"dataframe\">\n",
       "  <thead>\n",
       "    <tr style=\"text-align: right;\">\n",
       "      <th></th>\n",
       "      <th>CountryName</th>\n",
       "      <th>cases</th>\n",
       "      <th>GDPpercapita</th>\n",
       "    </tr>\n",
       "  </thead>\n",
       "  <tbody>\n",
       "    <tr>\n",
       "      <th>27</th>\n",
       "      <td>Brazil</td>\n",
       "      <td>1085038</td>\n",
       "      <td>14951.803509</td>\n",
       "    </tr>\n",
       "    <tr>\n",
       "      <th>91</th>\n",
       "      <td>India</td>\n",
       "      <td>425282</td>\n",
       "      <td>6697.157798</td>\n",
       "    </tr>\n",
       "    <tr>\n",
       "      <th>151</th>\n",
       "      <td>Peru</td>\n",
       "      <td>254936</td>\n",
       "      <td>13093.748704</td>\n",
       "    </tr>\n",
       "    <tr>\n",
       "      <th>178</th>\n",
       "      <td>Spain</td>\n",
       "      <td>246272</td>\n",
       "      <td>40483.639213</td>\n",
       "    </tr>\n",
       "    <tr>\n",
       "      <th>40</th>\n",
       "      <td>Chile</td>\n",
       "      <td>242355</td>\n",
       "      <td>24763.002188</td>\n",
       "    </tr>\n",
       "  </tbody>\n",
       "</table>\n",
       "</div>"
      ],
      "text/plain": [
       "    CountryName    cases  GDPpercapita\n",
       "27       Brazil  1085038  14951.803509\n",
       "91        India   425282   6697.157798\n",
       "151        Peru   254936  13093.748704\n",
       "178       Spain   246272  40483.639213\n",
       "40        Chile   242355  24763.002188"
      ]
     },
     "execution_count": 80,
     "metadata": {},
     "output_type": "execute_result"
    }
   ],
   "source": [
    "newdata.sort_values('cases',ascending=False).head()\n"
   ]
  },
  {
   "cell_type": "markdown",
   "metadata": {},
   "source": [
    "Since India and Brazil have unusually high number of cases, we will exclude these countries from our cluster analysis as they can skew the results"
   ]
  },
  {
   "cell_type": "code",
   "execution_count": 81,
   "metadata": {},
   "outputs": [],
   "source": [
    "newdata1=newdata[newdata.CountryName!='Brazil']\n",
    "newdata1=newdata1[newdata1.CountryName!='India']"
   ]
  },
  {
   "cell_type": "code",
   "execution_count": 82,
   "metadata": {},
   "outputs": [],
   "source": [
    "kmeans = KMeans(n_clusters=3)\n",
    "newdata1['label'] = kmeans.fit_predict(newdata1[['cases']])"
   ]
  },
  {
   "cell_type": "code",
   "execution_count": 83,
   "metadata": {},
   "outputs": [
    {
     "data": {
      "text/html": [
       "<div>\n",
       "<style scoped>\n",
       "    .dataframe tbody tr th:only-of-type {\n",
       "        vertical-align: middle;\n",
       "    }\n",
       "\n",
       "    .dataframe tbody tr th {\n",
       "        vertical-align: top;\n",
       "    }\n",
       "\n",
       "    .dataframe thead th {\n",
       "        text-align: right;\n",
       "    }\n",
       "</style>\n",
       "<table border=\"1\" class=\"dataframe\">\n",
       "  <thead>\n",
       "    <tr style=\"text-align: right;\">\n",
       "      <th></th>\n",
       "      <th>CountryName</th>\n",
       "      <th>cases</th>\n",
       "      <th>GDPpercapita</th>\n",
       "      <th>label</th>\n",
       "    </tr>\n",
       "  </thead>\n",
       "  <tbody>\n",
       "    <tr>\n",
       "      <th>0</th>\n",
       "      <td>Afghanistan</td>\n",
       "      <td>28833</td>\n",
       "      <td>2225.761336</td>\n",
       "      <td>0</td>\n",
       "    </tr>\n",
       "    <tr>\n",
       "      <th>1</th>\n",
       "      <td>Albania</td>\n",
       "      <td>1927</td>\n",
       "      <td>13835.548306</td>\n",
       "      <td>0</td>\n",
       "    </tr>\n",
       "    <tr>\n",
       "      <th>2</th>\n",
       "      <td>Algeria</td>\n",
       "      <td>11771</td>\n",
       "      <td>11759.196587</td>\n",
       "      <td>0</td>\n",
       "    </tr>\n",
       "    <tr>\n",
       "      <th>4</th>\n",
       "      <td>Angola</td>\n",
       "      <td>176</td>\n",
       "      <td>7092.990319</td>\n",
       "      <td>0</td>\n",
       "    </tr>\n",
       "    <tr>\n",
       "      <th>7</th>\n",
       "      <td>Argentina</td>\n",
       "      <td>42772</td>\n",
       "      <td>23299.982766</td>\n",
       "      <td>2</td>\n",
       "    </tr>\n",
       "  </tbody>\n",
       "</table>\n",
       "</div>"
      ],
      "text/plain": [
       "   CountryName  cases  GDPpercapita  label\n",
       "0  Afghanistan  28833   2225.761336      0\n",
       "1      Albania   1927  13835.548306      0\n",
       "2      Algeria  11771  11759.196587      0\n",
       "4       Angola    176   7092.990319      0\n",
       "7    Argentina  42772  23299.982766      2"
      ]
     },
     "execution_count": 83,
     "metadata": {},
     "output_type": "execute_result"
    }
   ],
   "source": [
    "newdata1.head()"
   ]
  },
  {
   "cell_type": "code",
   "execution_count": 84,
   "metadata": {},
   "outputs": [
    {
     "data": {
      "text/html": [
       "<div>\n",
       "<style scoped>\n",
       "    .dataframe tbody tr th:only-of-type {\n",
       "        vertical-align: middle;\n",
       "    }\n",
       "\n",
       "    .dataframe tbody tr th {\n",
       "        vertical-align: top;\n",
       "    }\n",
       "\n",
       "    .dataframe thead th {\n",
       "        text-align: right;\n",
       "    }\n",
       "</style>\n",
       "<table border=\"1\" class=\"dataframe\">\n",
       "  <thead>\n",
       "    <tr style=\"text-align: right;\">\n",
       "      <th></th>\n",
       "      <th>CountryName</th>\n",
       "      <th>cases</th>\n",
       "      <th>GDPpercapita</th>\n",
       "      <th>label</th>\n",
       "    </tr>\n",
       "  </thead>\n",
       "  <tbody>\n",
       "    <tr>\n",
       "      <th>0</th>\n",
       "      <td>Afghanistan</td>\n",
       "      <td>28833</td>\n",
       "      <td>2225.761336</td>\n",
       "      <td>0</td>\n",
       "    </tr>\n",
       "    <tr>\n",
       "      <th>1</th>\n",
       "      <td>Albania</td>\n",
       "      <td>1927</td>\n",
       "      <td>13835.548306</td>\n",
       "      <td>0</td>\n",
       "    </tr>\n",
       "    <tr>\n",
       "      <th>2</th>\n",
       "      <td>Algeria</td>\n",
       "      <td>11771</td>\n",
       "      <td>11759.196587</td>\n",
       "      <td>0</td>\n",
       "    </tr>\n",
       "    <tr>\n",
       "      <th>4</th>\n",
       "      <td>Angola</td>\n",
       "      <td>176</td>\n",
       "      <td>7092.990319</td>\n",
       "      <td>0</td>\n",
       "    </tr>\n",
       "    <tr>\n",
       "      <th>8</th>\n",
       "      <td>Armenia</td>\n",
       "      <td>20588</td>\n",
       "      <td>13024.688289</td>\n",
       "      <td>0</td>\n",
       "    </tr>\n",
       "  </tbody>\n",
       "</table>\n",
       "</div>"
      ],
      "text/plain": [
       "   CountryName  cases  GDPpercapita  label\n",
       "0  Afghanistan  28833   2225.761336      0\n",
       "1      Albania   1927  13835.548306      0\n",
       "2      Algeria  11771  11759.196587      0\n",
       "4       Angola    176   7092.990319      0\n",
       "8      Armenia  20588  13024.688289      0"
      ]
     },
     "execution_count": 84,
     "metadata": {},
     "output_type": "execute_result"
    }
   ],
   "source": [
    "cluster1=newdata1[newdata1.label==0]\n",
    "cluster2=newdata1[newdata1.label==1]\n",
    "cluster3=newdata1[newdata1.label==2]\n",
    "cluster1.head()"
   ]
  },
  {
   "cell_type": "code",
   "execution_count": 85,
   "metadata": {},
   "outputs": [
    {
     "data": {
      "text/plain": [
       "<matplotlib.legend.Legend at 0x1bae1828e08>"
      ]
     },
     "execution_count": 85,
     "metadata": {},
     "output_type": "execute_result"
    },
    {
     "data": {
      "image/png": "[encoded data removed]",
      "text/plain": [
       "<Figure size 720x720 with 1 Axes>"
      ]
     },
     "metadata": {
      "needs_background": "light"
     },
     "output_type": "display_data"
    }
   ],
   "source": [
    "plt.figure(figsize=(10,10))\n",
    "plt.scatter(cluster1.cases,cluster1.GDPpercapita,label='medium')            #cluster 1: medium case of spread\n",
    "plt.scatter(cluster2.cases,cluster2.GDPpercapita,color='green',label='high') #cluster 2: high case of spread\n",
    "plt.scatter(cluster3.cases,cluster3.GDPpercapita,color='red',label='low')    # cluster 3: low case of spread\n",
    "plt.xlabel('Total number of cases')\n",
    "plt.ylabel('GDPpercapita')\n",
    "plt.legend()\n"
   ]
  },
  {
   "cell_type": "markdown",
   "metadata": {},
   "source": [
    "We have split the data into three distinct clusters (segregated by the color of the points on the plot) based on the degree of the spread of the virus. We can draw the following conclusions from the plot.\n",
    "\n",
    "1. High gdp countries ( gdppercapita > 60000 ) have been very sucessful in containing the virus\n",
    "\n",
    "2. High number of cases of the virus is seen only in medium gdppercapita countries( 20000 < gdppercapita < 60000) and low gdppercapita countries( gdppercapita < 20000 ). Even among these nations, most have managed to contain the virus well. \n",
    "\n",
    "These observations point out that some countries have been more affected than others. This variance of spread among countries maybe because of multiple reasons, which includes but not limited to, lack of proper measures, high population density, lack of complaince of the general public with laws enforced etc. Although most factors listed above cannot be quantified, we can investigate if population denisity is a factor that contributed to this spread\n",
    "\n"
   ]
  },
  {
   "cell_type": "code",
   "execution_count": 88,
   "metadata": {},
   "outputs": [
    {
     "data": {
      "text/html": [
       "<div>\n",
       "<style scoped>\n",
       "    .dataframe tbody tr th:only-of-type {\n",
       "        vertical-align: middle;\n",
       "    }\n",
       "\n",
       "    .dataframe tbody tr th {\n",
       "        vertical-align: top;\n",
       "    }\n",
       "\n",
       "    .dataframe thead th {\n",
       "        text-align: right;\n",
       "    }\n",
       "</style>\n",
       "<table border=\"1\" class=\"dataframe\">\n",
       "  <thead>\n",
       "    <tr style=\"text-align: right;\">\n",
       "      <th></th>\n",
       "      <th>Country Name</th>\n",
       "      <th>2018</th>\n",
       "    </tr>\n",
       "  </thead>\n",
       "  <tbody>\n",
       "    <tr>\n",
       "      <th>0</th>\n",
       "      <td>Aruba</td>\n",
       "      <td>588.027778</td>\n",
       "    </tr>\n",
       "    <tr>\n",
       "      <th>1</th>\n",
       "      <td>Afghanistan</td>\n",
       "      <td>56.937760</td>\n",
       "    </tr>\n",
       "    <tr>\n",
       "      <th>2</th>\n",
       "      <td>Angola</td>\n",
       "      <td>24.713052</td>\n",
       "    </tr>\n",
       "    <tr>\n",
       "      <th>3</th>\n",
       "      <td>Albania</td>\n",
       "      <td>104.612263</td>\n",
       "    </tr>\n",
       "    <tr>\n",
       "      <th>4</th>\n",
       "      <td>Andorra</td>\n",
       "      <td>163.842553</td>\n",
       "    </tr>\n",
       "  </tbody>\n",
       "</table>\n",
       "</div>"
      ],
      "text/plain": [
       "  Country Name        2018\n",
       "0        Aruba  588.027778\n",
       "1  Afghanistan   56.937760\n",
       "2       Angola   24.713052\n",
       "3      Albania  104.612263\n",
       "4      Andorra  163.842553"
      ]
     },
     "execution_count": 88,
     "metadata": {},
     "output_type": "execute_result"
    }
   ],
   "source": [
    "popdense=pd.read_excel('Popdense.xls')\n",
    "popdense=popdense.iloc[:,[0,62]]\n",
    "popdense.head()"
   ]
  },
  {
   "cell_type": "code",
   "execution_count": 89,
   "metadata": {},
   "outputs": [],
   "source": [
    "popdense.rename(columns={'Country Name':'CountryName','2018':'Popdense'},inplace=True)\n"
   ]
  },
  {
   "cell_type": "code",
   "execution_count": 90,
   "metadata": {},
   "outputs": [],
   "source": [
    "newdata2=pd.merge(newdata1,popdense,how='inner',on='CountryName')\n"
   ]
  },
  {
   "cell_type": "code",
   "execution_count": 91,
   "metadata": {},
   "outputs": [
    {
     "data": {
      "text/plain": [
       "Text(0, 0.5, 'Population denisity')"
      ]
     },
     "execution_count": 91,
     "metadata": {},
     "output_type": "execute_result"
    },
    {
     "data": {
      "image/png": "[encoded data removed]",
      "text/plain": [
       "<Figure size 720x720 with 1 Axes>"
      ]
     },
     "metadata": {
      "needs_background": "light"
     },
     "output_type": "display_data"
    }
   ],
   "source": [
    "plt.figure(figsize=(10,10))\n",
    "plt.scatter(newdata2.cases,newdata2.Popdense)\n",
    "plt.xlabel('Total number of Cases')\n",
    "plt.ylabel('Population denisity')"
   ]
  },
  {
   "cell_type": "code",
   "execution_count": 92,
   "metadata": {},
   "outputs": [
    {
     "data": {
      "text/html": [
       "<div>\n",
       "<style scoped>\n",
       "    .dataframe tbody tr th:only-of-type {\n",
       "        vertical-align: middle;\n",
       "    }\n",
       "\n",
       "    .dataframe tbody tr th {\n",
       "        vertical-align: top;\n",
       "    }\n",
       "\n",
       "    .dataframe thead th {\n",
       "        text-align: right;\n",
       "    }\n",
       "</style>\n",
       "<table border=\"1\" class=\"dataframe\">\n",
       "  <thead>\n",
       "    <tr style=\"text-align: right;\">\n",
       "      <th></th>\n",
       "      <th>CountryName</th>\n",
       "      <th>cases</th>\n",
       "      <th>GDPpercapita</th>\n",
       "      <th>label</th>\n",
       "      <th>Popdense</th>\n",
       "    </tr>\n",
       "  </thead>\n",
       "  <tbody>\n",
       "    <tr>\n",
       "      <th>109</th>\n",
       "      <td>Singapore</td>\n",
       "      <td>42095</td>\n",
       "      <td>98827.352602</td>\n",
       "      <td>2</td>\n",
       "      <td>7952.998418</td>\n",
       "    </tr>\n",
       "    <tr>\n",
       "      <th>9</th>\n",
       "      <td>Bahrain</td>\n",
       "      <td>21764</td>\n",
       "      <td>47296.986953</td>\n",
       "      <td>0</td>\n",
       "      <td>2017.273700</td>\n",
       "    </tr>\n",
       "    <tr>\n",
       "      <th>76</th>\n",
       "      <td>Maldives</td>\n",
       "      <td>2203</td>\n",
       "      <td>18959.372998</td>\n",
       "      <td>0</td>\n",
       "      <td>1718.986667</td>\n",
       "    </tr>\n",
       "    <tr>\n",
       "      <th>78</th>\n",
       "      <td>Malta</td>\n",
       "      <td>665</td>\n",
       "      <td>43538.509928</td>\n",
       "      <td>0</td>\n",
       "      <td>1514.468750</td>\n",
       "    </tr>\n",
       "    <tr>\n",
       "      <th>10</th>\n",
       "      <td>Bangladesh</td>\n",
       "      <td>112306</td>\n",
       "      <td>4549.613928</td>\n",
       "      <td>2</td>\n",
       "      <td>1239.579312</td>\n",
       "    </tr>\n",
       "  </tbody>\n",
       "</table>\n",
       "</div>"
      ],
      "text/plain": [
       "    CountryName   cases  GDPpercapita  label     Popdense\n",
       "109   Singapore   42095  98827.352602      2  7952.998418\n",
       "9       Bahrain   21764  47296.986953      0  2017.273700\n",
       "76     Maldives    2203  18959.372998      0  1718.986667\n",
       "78        Malta     665  43538.509928      0  1514.468750\n",
       "10   Bangladesh  112306   4549.613928      2  1239.579312"
      ]
     },
     "execution_count": 92,
     "metadata": {},
     "output_type": "execute_result"
    }
   ],
   "source": [
    "newdata2.sort_values('Popdense',ascending=False).head()"
   ]
  },
  {
   "cell_type": "markdown",
   "metadata": {},
   "source": [
    "It is interesting to note that Singapore, although it has a very high population denisity, has managed to do an excellent job in containing the virus.\n",
    "\n",
    "To get a better picture of the relation, we exclude the outliers as before."
   ]
  },
  {
   "cell_type": "code",
   "execution_count": 93,
   "metadata": {},
   "outputs": [
    {
     "data": {
      "text/html": [
       "<div>\n",
       "<style scoped>\n",
       "    .dataframe tbody tr th:only-of-type {\n",
       "        vertical-align: middle;\n",
       "    }\n",
       "\n",
       "    .dataframe tbody tr th {\n",
       "        vertical-align: top;\n",
       "    }\n",
       "\n",
       "    .dataframe thead th {\n",
       "        text-align: right;\n",
       "    }\n",
       "</style>\n",
       "<table border=\"1\" class=\"dataframe\">\n",
       "  <thead>\n",
       "    <tr style=\"text-align: right;\">\n",
       "      <th></th>\n",
       "      <th>CountryName</th>\n",
       "      <th>cases</th>\n",
       "      <th>GDPpercapita</th>\n",
       "      <th>label</th>\n",
       "      <th>Popdense</th>\n",
       "    </tr>\n",
       "  </thead>\n",
       "  <tbody>\n",
       "    <tr>\n",
       "      <th>0</th>\n",
       "      <td>Afghanistan</td>\n",
       "      <td>28833</td>\n",
       "      <td>2225.761336</td>\n",
       "      <td>0</td>\n",
       "      <td>56.937760</td>\n",
       "    </tr>\n",
       "    <tr>\n",
       "      <th>1</th>\n",
       "      <td>Albania</td>\n",
       "      <td>1927</td>\n",
       "      <td>13835.548306</td>\n",
       "      <td>0</td>\n",
       "      <td>104.612263</td>\n",
       "    </tr>\n",
       "    <tr>\n",
       "      <th>2</th>\n",
       "      <td>Algeria</td>\n",
       "      <td>11771</td>\n",
       "      <td>11759.196587</td>\n",
       "      <td>0</td>\n",
       "      <td>17.730075</td>\n",
       "    </tr>\n",
       "    <tr>\n",
       "      <th>3</th>\n",
       "      <td>Angola</td>\n",
       "      <td>176</td>\n",
       "      <td>7092.990319</td>\n",
       "      <td>0</td>\n",
       "      <td>24.713052</td>\n",
       "    </tr>\n",
       "    <tr>\n",
       "      <th>4</th>\n",
       "      <td>Argentina</td>\n",
       "      <td>42772</td>\n",
       "      <td>23299.982766</td>\n",
       "      <td>2</td>\n",
       "      <td>16.258510</td>\n",
       "    </tr>\n",
       "  </tbody>\n",
       "</table>\n",
       "</div>"
      ],
      "text/plain": [
       "   CountryName  cases  GDPpercapita  label    Popdense\n",
       "0  Afghanistan  28833   2225.761336      0   56.937760\n",
       "1      Albania   1927  13835.548306      0  104.612263\n",
       "2      Algeria  11771  11759.196587      0   17.730075\n",
       "3       Angola    176   7092.990319      0   24.713052\n",
       "4    Argentina  42772  23299.982766      2   16.258510"
      ]
     },
     "execution_count": 93,
     "metadata": {},
     "output_type": "execute_result"
    }
   ],
   "source": [
    "newdata2=newdata2[newdata2.CountryName!='Singapore']\n",
    "newdata2=newdata2[newdata2.CountryName!='Brazil']\n",
    "newdata2.head()"
   ]
  },
  {
   "cell_type": "code",
   "execution_count": 94,
   "metadata": {},
   "outputs": [
    {
     "data": {
      "text/plain": [
       "Text(0, 0.5, 'Population denisity')"
      ]
     },
     "execution_count": 94,
     "metadata": {},
     "output_type": "execute_result"
    },
    {
     "data": {
      "image/png": "[encoded data removed]",
      "text/plain": [
       "<Figure size 720x720 with 1 Axes>"
      ]
     },
     "metadata": {
      "needs_background": "light"
     },
     "output_type": "display_data"
    }
   ],
   "source": [
    "plt.figure(figsize=(10,10))\n",
    "plt.scatter(newdata2.cases,newdata2.Popdense)\n",
    "plt.xlabel('Total number of Cases')\n",
    "plt.ylabel('Population denisity')"
   ]
  },
  {
   "cell_type": "code",
   "execution_count": 95,
   "metadata": {},
   "outputs": [
    {
     "data": {
      "text/html": [
       "<div>\n",
       "<style scoped>\n",
       "    .dataframe tbody tr th:only-of-type {\n",
       "        vertical-align: middle;\n",
       "    }\n",
       "\n",
       "    .dataframe tbody tr th {\n",
       "        vertical-align: top;\n",
       "    }\n",
       "\n",
       "    .dataframe thead th {\n",
       "        text-align: right;\n",
       "    }\n",
       "</style>\n",
       "<table border=\"1\" class=\"dataframe\">\n",
       "  <thead>\n",
       "    <tr style=\"text-align: right;\">\n",
       "      <th></th>\n",
       "      <th>CountryName</th>\n",
       "      <th>cases</th>\n",
       "      <th>GDPpercapita</th>\n",
       "      <th>label</th>\n",
       "      <th>Popdense</th>\n",
       "    </tr>\n",
       "  </thead>\n",
       "  <tbody>\n",
       "    <tr>\n",
       "      <th>9</th>\n",
       "      <td>Bahrain</td>\n",
       "      <td>21764</td>\n",
       "      <td>47296.986953</td>\n",
       "      <td>0</td>\n",
       "      <td>2017.273700</td>\n",
       "    </tr>\n",
       "    <tr>\n",
       "      <th>76</th>\n",
       "      <td>Maldives</td>\n",
       "      <td>2203</td>\n",
       "      <td>18959.372998</td>\n",
       "      <td>0</td>\n",
       "      <td>1718.986667</td>\n",
       "    </tr>\n",
       "    <tr>\n",
       "      <th>78</th>\n",
       "      <td>Malta</td>\n",
       "      <td>665</td>\n",
       "      <td>43538.509928</td>\n",
       "      <td>0</td>\n",
       "      <td>1514.468750</td>\n",
       "    </tr>\n",
       "    <tr>\n",
       "      <th>10</th>\n",
       "      <td>Bangladesh</td>\n",
       "      <td>112306</td>\n",
       "      <td>4549.613928</td>\n",
       "      <td>2</td>\n",
       "      <td>1239.579312</td>\n",
       "    </tr>\n",
       "    <tr>\n",
       "      <th>67</th>\n",
       "      <td>Lebanon</td>\n",
       "      <td>1587</td>\n",
       "      <td>16416.891561</td>\n",
       "      <td>0</td>\n",
       "      <td>669.494135</td>\n",
       "    </tr>\n",
       "  </tbody>\n",
       "</table>\n",
       "</div>"
      ],
      "text/plain": [
       "   CountryName   cases  GDPpercapita  label     Popdense\n",
       "9      Bahrain   21764  47296.986953      0  2017.273700\n",
       "76    Maldives    2203  18959.372998      0  1718.986667\n",
       "78       Malta     665  43538.509928      0  1514.468750\n",
       "10  Bangladesh  112306   4549.613928      2  1239.579312\n",
       "67     Lebanon    1587  16416.891561      0   669.494135"
      ]
     },
     "execution_count": 95,
     "metadata": {},
     "output_type": "execute_result"
    }
   ],
   "source": [
    "newdata2.sort_values('Popdense',ascending=False).head()\n"
   ]
  },
  {
   "cell_type": "code",
   "execution_count": 96,
   "metadata": {},
   "outputs": [],
   "source": [
    "popcluster1=newdata2[newdata2.label==0]\n",
    "popcluster2=newdata2[newdata2.label==1]\n",
    "popcluster3=newdata2[newdata2.label==2]"
   ]
  },
  {
   "cell_type": "code",
   "execution_count": 97,
   "metadata": {},
   "outputs": [
    {
     "data": {
      "text/plain": [
       "Text(0, 0.5, 'Population dense')"
      ]
     },
     "execution_count": 97,
     "metadata": {},
     "output_type": "execute_result"
    },
    {
     "data": {
      "image/png": "[encoded data removed]",
      "text/plain": [
       "<Figure size 720x720 with 1 Axes>"
      ]
     },
     "metadata": {
      "needs_background": "light"
     },
     "output_type": "display_data"
    }
   ],
   "source": [
    "plt.figure(figsize=(10,10))\n",
    "plt.scatter(popcluster1.cases,popcluster1.Popdense,)\n",
    "plt.scatter(popcluster2.cases,popcluster2.Popdense,color='green')\n",
    "plt.scatter(popcluster3.cases,popcluster3.Popdense,color='red')\n",
    "plt.xlabel('Total number of cases')\n",
    "plt.ylabel('Population dense')\n",
    "\n"
   ]
  },
  {
   "cell_type": "markdown",
   "metadata": {},
   "source": [
    "We can draw the following conclusions from this plot:\n",
    "1. There seems to be no percivable relation to the average population denisty of a nation and the actual spread of the data.\n",
    "2. Certain countries with very high population denisity are doing very well compared to others ."
   ]
  },
  {
   "cell_type": "code",
   "execution_count": 99,
   "metadata": {},
   "outputs": [
    {
     "name": "stderr",
     "output_type": "stream",
     "text": [
      "No handles with labels found to put in legend.\n"
     ]
    },
    {
     "data": {
      "text/plain": [
       "Text(0, 0.5, 'Population dense')"
      ]
     },
     "execution_count": 99,
     "metadata": {},
     "output_type": "execute_result"
    },
    {
     "data": {
      "image/png": "[encoded data removed]",
      "text/plain": [
       "<Figure size 1080x1080 with 2 Axes>"
      ]
     },
     "metadata": {
      "needs_background": "light"
     },
     "output_type": "display_data"
    }
   ],
   "source": [
    "plt.figure(figsize=(15,15))\n",
    "plt.subplot(2,2,1)\n",
    "\n",
    "plt.scatter(cluster1.cases,cluster1.GDPpercapita)            \n",
    "plt.scatter(cluster2.cases,cluster2.GDPpercapita,color='green') \n",
    "plt.scatter(cluster3.cases,cluster3.GDPpercapita,color='red')    \n",
    "plt.xlabel('Total number of cases')\n",
    "plt.ylabel('GDPpercapita')\n",
    "plt.legend()\n",
    "\n",
    "plt.subplot(2,2,2)\n",
    "\n",
    "plt.scatter(popcluster1.cases,popcluster1.Popdense,)\n",
    "plt.scatter(popcluster2.cases,popcluster2.Popdense,color='green')\n",
    "plt.scatter(popcluster3.cases,popcluster3.Popdense,color='red')\n",
    "plt.xlabel('Total number of cases')\n",
    "plt.ylabel('Population dense')\n",
    "\n",
    "\n"
   ]
  },
  {
   "cell_type": "markdown",
   "metadata": {},
   "source": [
    "1. The countries with high number of cases have low to medium GDPpercapita (0 < gdpPercapita < 60000) and low to medium population denisty(0 < popdensity < 500). \n",
    "2. Many countries in low to medium GDPpercapita and nd low to medium population denisty have contained the spread effectively\n",
    "3. Some countries with very high population denisity have been extremely effective in containing the spread.\n",
    "\n",
    "These observations suggests that the virus had spread very drasticaly in some countries because they failed to implement preventive measures effectively in a timely fashion. A quick look the stats of India and Brazil also reveal the same trend.\n",
    "\n",
    "These trends suggest that the only factor that can control the spread the virus is how effectively preventive measures(social distancing, quarantine of effected individuals at the earliest etc) is enforced in a nation. It is therefore the discipline of the people of a nation and effectiveness of policy implementation of the government that determines the state of the spread.\n"
   ]
  },
  {
   "cell_type": "code",
   "execution_count": 40,
   "metadata": {},
   "outputs": [
    {
     "data": {
      "text/html": [
       "<div>\n",
       "<style scoped>\n",
       "    .dataframe tbody tr th:only-of-type {\n",
       "        vertical-align: middle;\n",
       "    }\n",
       "\n",
       "    .dataframe tbody tr th {\n",
       "        vertical-align: top;\n",
       "    }\n",
       "\n",
       "    .dataframe thead th {\n",
       "        text-align: right;\n",
       "    }\n",
       "</style>\n",
       "<table border=\"1\" class=\"dataframe\">\n",
       "  <thead>\n",
       "    <tr style=\"text-align: right;\">\n",
       "      <th></th>\n",
       "      <th>CountryName</th>\n",
       "      <th>FatalityRate</th>\n",
       "      <th>gdppercapita</th>\n",
       "    </tr>\n",
       "  </thead>\n",
       "  <tbody>\n",
       "    <tr>\n",
       "      <th>0</th>\n",
       "      <td>Afghanistan</td>\n",
       "      <td>2.015052</td>\n",
       "      <td>2225.761336</td>\n",
       "    </tr>\n",
       "    <tr>\n",
       "      <th>1</th>\n",
       "      <td>Albania</td>\n",
       "      <td>2.283342</td>\n",
       "      <td>13835.548306</td>\n",
       "    </tr>\n",
       "    <tr>\n",
       "      <th>2</th>\n",
       "      <td>Algeria</td>\n",
       "      <td>7.178659</td>\n",
       "      <td>11759.196587</td>\n",
       "    </tr>\n",
       "    <tr>\n",
       "      <th>3</th>\n",
       "      <td>Angola</td>\n",
       "      <td>6.081871</td>\n",
       "      <td>7092.990319</td>\n",
       "    </tr>\n",
       "    <tr>\n",
       "      <th>4</th>\n",
       "      <td>Argentina</td>\n",
       "      <td>5.113636</td>\n",
       "      <td>23299.982766</td>\n",
       "    </tr>\n",
       "  </tbody>\n",
       "</table>\n",
       "</div>"
      ],
      "text/plain": [
       "   CountryName  FatalityRate  gdppercapita\n",
       "0  Afghanistan      2.015052   2225.761336\n",
       "1      Albania      2.283342  13835.548306\n",
       "2      Algeria      7.178659  11759.196587\n",
       "3       Angola      6.081871   7092.990319\n",
       "4    Argentina      5.113636  23299.982766"
      ]
     },
     "execution_count": 40,
     "metadata": {},
     "output_type": "execute_result"
    }
   ],
   "source": [
    "newdata3=pd.DataFrame()\n",
    "newdata3=pd.concat([world.countriesAndTerritories,world.deaths,world.cases],axis=1)\n",
    "newdata3.rename(columns={'countriesAndTerritories':'CountryName'},inplace=True)\n",
    "totaldeath=pd.DataFrame(newdata3.groupby(['CountryName']).deaths.sum())\n",
    "totaldeath.reset_index(drop=True,inplace=True)\n",
    "totalcases=pd.DataFrame(newdata3.groupby(['CountryName']).cases.sum())\n",
    "totalcases.reset_index(drop=True,inplace=True)\n",
    "fatalityrate=pd.Series((totaldeath.deaths/totalcases.cases)*100)\n",
    "deathrate=pd.concat([pd.Series(newdata2.CountryName.unique()),fatalityrate],axis=1)\n",
    "deathrate.rename(columns={0:'CountryName',1:'FatalityRate'},inplace=1)\n",
    "newdata3=pd.merge(deathrate,gdp,how='inner',on='CountryName')\n",
    "newdata3.rename(columns={'2018':'gdppercapita'},inplace=True)\n",
    "newdata3.head()"
   ]
  },
  {
   "cell_type": "code",
   "execution_count": 41,
   "metadata": {},
   "outputs": [
    {
     "data": {
      "text/plain": [
       "Text(0, 0.5, 'GDP per capita')"
      ]
     },
     "execution_count": 41,
     "metadata": {},
     "output_type": "execute_result"
    },
    {
     "data": {
      "image/png": "[encoded data removed]",
      "text/plain": [
       "<Figure size 720x720 with 1 Axes>"
      ]
     },
     "metadata": {
      "needs_background": "light"
     },
     "output_type": "display_data"
    }
   ],
   "source": [
    "plt.figure(figsize=(10,10))\n",
    "plt.scatter(newdata3.FatalityRate,newdata3.gdppercapita)\n",
    "plt.xlabel('FatalityRate')\n",
    "plt.ylabel('GDP per capita')\n",
    "\n"
   ]
  },
  {
   "cell_type": "code",
   "execution_count": 42,
   "metadata": {},
   "outputs": [
    {
     "data": {
      "text/html": [
       "<div>\n",
       "<style scoped>\n",
       "    .dataframe tbody tr th:only-of-type {\n",
       "        vertical-align: middle;\n",
       "    }\n",
       "\n",
       "    .dataframe tbody tr th {\n",
       "        vertical-align: top;\n",
       "    }\n",
       "\n",
       "    .dataframe thead th {\n",
       "        text-align: right;\n",
       "    }\n",
       "</style>\n",
       "<table border=\"1\" class=\"dataframe\">\n",
       "  <thead>\n",
       "    <tr style=\"text-align: right;\">\n",
       "      <th></th>\n",
       "      <th>CountryName</th>\n",
       "      <th>FatalityRate</th>\n",
       "      <th>gdppercapita</th>\n",
       "      <th>0</th>\n",
       "    </tr>\n",
       "  </thead>\n",
       "  <tbody>\n",
       "    <tr>\n",
       "      <th>0</th>\n",
       "      <td>Afghanistan</td>\n",
       "      <td>2.015052</td>\n",
       "      <td>2225.761336</td>\n",
       "      <td>0</td>\n",
       "    </tr>\n",
       "    <tr>\n",
       "      <th>1</th>\n",
       "      <td>Albania</td>\n",
       "      <td>2.283342</td>\n",
       "      <td>13835.548306</td>\n",
       "      <td>0</td>\n",
       "    </tr>\n",
       "    <tr>\n",
       "      <th>2</th>\n",
       "      <td>Algeria</td>\n",
       "      <td>7.178659</td>\n",
       "      <td>11759.196587</td>\n",
       "      <td>1</td>\n",
       "    </tr>\n",
       "    <tr>\n",
       "      <th>3</th>\n",
       "      <td>Angola</td>\n",
       "      <td>6.081871</td>\n",
       "      <td>7092.990319</td>\n",
       "      <td>1</td>\n",
       "    </tr>\n",
       "    <tr>\n",
       "      <th>4</th>\n",
       "      <td>Argentina</td>\n",
       "      <td>5.113636</td>\n",
       "      <td>23299.982766</td>\n",
       "      <td>1</td>\n",
       "    </tr>\n",
       "  </tbody>\n",
       "</table>\n",
       "</div>"
      ],
      "text/plain": [
       "   CountryName  FatalityRate  gdppercapita  0\n",
       "0  Afghanistan      2.015052   2225.761336  0\n",
       "1      Albania      2.283342  13835.548306  0\n",
       "2      Algeria      7.178659  11759.196587  1\n",
       "3       Angola      6.081871   7092.990319  1\n",
       "4    Argentina      5.113636  23299.982766  1"
      ]
     },
     "execution_count": 42,
     "metadata": {},
     "output_type": "execute_result"
    }
   ],
   "source": [
    "kmeans=KMeans(n_clusters=3)\n",
    "newdata3=pd.concat([newdata3,pd.Series(kmeans.fit_predict(newdata3[['FatalityRate']]))],axis=1)\n",
    "newdata3.head()"
   ]
  },
  {
   "cell_type": "code",
   "execution_count": 43,
   "metadata": {},
   "outputs": [],
   "source": [
    "newdata3.rename(columns={0:'label'},inplace=True)"
   ]
  },
  {
   "cell_type": "code",
   "execution_count": 44,
   "metadata": {},
   "outputs": [],
   "source": [
    "dcluster1=newdata3[newdata3.label==0]\n",
    "dcluster2=newdata3[newdata3.label==1]\n",
    "dcluster3=newdata3[newdata3.label==2]"
   ]
  },
  {
   "cell_type": "code",
   "execution_count": 45,
   "metadata": {},
   "outputs": [
    {
     "name": "stderr",
     "output_type": "stream",
     "text": [
      "No handles with labels found to put in legend.\n"
     ]
    },
    {
     "data": {
      "text/plain": [
       "<matplotlib.legend.Legend at 0x2885c076548>"
      ]
     },
     "execution_count": 45,
     "metadata": {},
     "output_type": "execute_result"
    },
    {
     "data": {
      "image/png": "[encoded data removed]",
      "text/plain": [
       "<Figure size 720x720 with 1 Axes>"
      ]
     },
     "metadata": {
      "needs_background": "light"
     },
     "output_type": "display_data"
    }
   ],
   "source": [
    "plt.figure(figsize=(10,10))\n",
    "plt.scatter(dcluster1.FatalityRate,dcluster1.gdppercapita)\n",
    "plt.scatter(dcluster2.FatalityRate,dcluster2.gdppercapita,color='green')\n",
    "plt.scatter(dcluster3.FatalityRate,dcluster3.gdppercapita,color='red')\n",
    "plt.xlabel('FatalityRate')\n",
    "plt.ylabel('GDP per capita')\n",
    "plt.legend()\n"
   ]
  },
  {
   "cell_type": "markdown",
   "metadata": {},
   "source": [
    "That concludes this analysis!!"
   ]
  },
  {
   "cell_type": "code",
   "execution_count": null,
   "metadata": {},
   "outputs": [],
   "source": []
  }
 ],
 "metadata": {
  "kernelspec": {
   "display_name": "Python 3",
   "language": "python",
   "name": "python3"
  },
  "language_info": {
   "codemirror_mode": {
    "name": "ipython",
    "version": 3
   },
   "file_extension": ".py",
   "mimetype": "text/x-python",
   "name": "python",
   "nbconvert_exporter": "python",
   "pygments_lexer": "ipython3",
   "version": "3.7.6"
  }
 },
 "nbformat": 4,
 "nbformat_minor": 4
}
